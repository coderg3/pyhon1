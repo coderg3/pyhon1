{
 "cells": [
  {
   "cell_type": "code",
   "execution_count": 10,
   "id": "6d5dbcc3",
   "metadata": {},
   "outputs": [
    {
     "name": "stdout",
     "output_type": "stream",
     "text": [
      "# \n",
      "# # \n",
      "# # # \n",
      "# # # # \n",
      "# # # # # \n",
      "# # # # # # \n",
      "# # # # # # # \n",
      "# # # # # # # # \n"
     ]
    }
   ],
   "source": [
    "# half pyramid with (#)\n",
    "for i in range(8):\n",
    "    for j in range(i+1):\n",
    "        print(\"#\", end = \" \")  \n",
    "    print()"
   ]
  },
  {
   "cell_type": "code",
   "execution_count": 12,
   "id": "fb1c3e22",
   "metadata": {},
   "outputs": [
    {
     "name": "stdout",
     "output_type": "stream",
     "text": [
      "# # # # # # # # \n",
      "# # # # # # # \n",
      "# # # # # # \n",
      "# # # # # \n",
      "# # # # \n",
      "# # # \n",
      "# # \n",
      "# \n"
     ]
    }
   ],
   "source": [
    "# inverted half pyramid with (#)\n",
    "for i in range(8):\n",
    "    for j in range(i , 8):\n",
    "        print(\"#\", end = \" \")  \n",
    "    print()"
   ]
  },
  {
   "cell_type": "code",
   "execution_count": null,
   "id": "fb92ac1b",
   "metadata": {},
   "outputs": [],
   "source": []
  },
  {
   "cell_type": "code",
   "execution_count": 11,
   "id": "f2df0feb",
   "metadata": {},
   "outputs": [
    {
     "name": "stdout",
     "output_type": "stream",
     "text": [
      "1 \n",
      "2 3 \n",
      "4 5 6 \n",
      "7 8 9 10 \n",
      "11 12 13 14 15 \n",
      "16 17 18 19 20 21 \n",
      "22 23 24 25 26 27 28 \n",
      "29 30 31 32 33 34 35 36 \n"
     ]
    }
   ],
   "source": [
    "# Half pyramid for continous range of numbers\n",
    "num = 1\n",
    "for i in range(8):\n",
    "    for j in range(i+1):\n",
    "        print(num, end = \" \")  \n",
    "        num = num + 1\n",
    "    print()"
   ]
  },
  {
   "cell_type": "code",
   "execution_count": 13,
   "id": "90e6c3a3",
   "metadata": {},
   "outputs": [
    {
     "name": "stdout",
     "output_type": "stream",
     "text": [
      "1 2 3 4 5 6 7 8 \n",
      "9 10 11 12 13 14 15 \n",
      "16 17 18 19 20 21 \n",
      "22 23 24 25 26 \n",
      "27 28 29 30 \n",
      "31 32 33 \n",
      "34 35 \n",
      "36 \n"
     ]
    }
   ],
   "source": [
    "# inverted Half pyramid for continous range of numbers\n",
    "num = 1\n",
    "for i in range(8):\n",
    "    for j in range(i , 8):\n",
    "        print(num, end = \" \")  \n",
    "        num = num + 1\n",
    "    print()"
   ]
  },
  {
   "cell_type": "code",
   "execution_count": 18,
   "id": "eab239f8",
   "metadata": {},
   "outputs": [
    {
     "name": "stdout",
     "output_type": "stream",
     "text": [
      "1 \n",
      "1 2 \n",
      "1 2 3 \n",
      "1 2 3 4 \n",
      "1 2 3 4 5 \n",
      "1 2 3 4 5 6 \n",
      "1 2 3 4 5 6 7 \n",
      "1 2 3 4 5 6 7 8 \n"
     ]
    }
   ],
   "source": [
    "# Half pyramid for range of numbers from beginning\n",
    "num = 1\n",
    "for i in range(8):\n",
    "    for j in range(i+1):\n",
    "        print(num, end = \" \")  \n",
    "        num = num + 1\n",
    "    num = 1\n",
    "    print()"
   ]
  },
  {
   "cell_type": "code",
   "execution_count": 19,
   "id": "d96fd2fa",
   "metadata": {},
   "outputs": [
    {
     "name": "stdout",
     "output_type": "stream",
     "text": [
      "1 2 3 4 5 6 7 8 \n",
      "1 2 3 4 5 6 7 \n",
      "1 2 3 4 5 6 \n",
      "1 2 3 4 5 \n",
      "1 2 3 4 \n",
      "1 2 3 \n",
      "1 2 \n",
      "1 \n"
     ]
    }
   ],
   "source": [
    "#inverted Half pyramid for range of numbers from beginning\n",
    "for i in range(8):\n",
    "    num = 1\n",
    "    for j in range(8, i, -1):\n",
    "        print(num, end = \" \")  \n",
    "        num = num + 1\n",
    "    print()"
   ]
  },
  {
   "cell_type": "code",
   "execution_count": 23,
   "id": "af30b3f4",
   "metadata": {},
   "outputs": [
    {
     "name": "stdout",
     "output_type": "stream",
     "text": [
      "1 2 3 4 5 6 7 8 \n",
      "9 10 11 12 13 14 15 \n",
      "16 17 18 19 20 21 \n",
      "22 23 24 25 26 \n",
      "27 28 29 30 \n",
      "31 32 33 \n",
      "34 35 \n",
      "36 \n"
     ]
    }
   ],
   "source": [
    "\n",
    "for i in range(8):\n",
    "   \n",
    "    for j in range(8, i, -1):\n",
    "        print(num, end = \" \")  \n",
    "        num = num + 1\n",
    "   \n",
    "    print()"
   ]
  }
 ],
 "metadata": {
  "kernelspec": {
   "display_name": "Python 3 (ipykernel)",
   "language": "python",
   "name": "python3"
  },
  "language_info": {
   "codemirror_mode": {
    "name": "ipython",
    "version": 3
   },
   "file_extension": ".py",
   "mimetype": "text/x-python",
   "name": "python",
   "nbconvert_exporter": "python",
   "pygments_lexer": "ipython3",
   "version": "3.9.12"
  }
 },
 "nbformat": 4,
 "nbformat_minor": 5
}
