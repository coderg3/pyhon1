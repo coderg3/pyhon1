{
 "cells": [
  {
   "cell_type": "code",
   "execution_count": 1,
   "id": "6d5dbcc3",
   "metadata": {},
   "outputs": [
    {
     "name": "stdout",
     "output_type": "stream",
     "text": [
      "Enter a number: 10\n",
      "['0', '1', '1', '2', '3', '5', '8', '13', '21', '34', '55']\n",
      "0,1,1,2,3,5,8,13,21,34,55\n"
     ]
    }
   ],
   "source": [
    "def fibo(n):\n",
    "    a = 0\n",
    "    b = 1\n",
    "    if n == 0:\n",
    "        return a\n",
    "    elif n == 1:\n",
    "        return b\n",
    "    else:\n",
    "        return fibo(n-1) + fibo(n-2)\n",
    "n = int(input(\"Enter a number: \"))\n",
    "l = [str(fibo(i)) for i in range(0, n+1)]\n",
    "print(l)\n",
    "print(','.join(l))"
   ]
  },
  {
   "cell_type": "code",
   "execution_count": null,
   "id": "f2df0feb",
   "metadata": {},
   "outputs": [],
   "source": [
    "# Here white space matters . Indent where needed. "
   ]
  }
 ],
 "metadata": {
  "kernelspec": {
   "display_name": "Python 3 (ipykernel)",
   "language": "python",
   "name": "python3"
  },
  "language_info": {
   "codemirror_mode": {
    "name": "ipython",
    "version": 3
   },
   "file_extension": ".py",
   "mimetype": "text/x-python",
   "name": "python",
   "nbconvert_exporter": "python",
   "pygments_lexer": "ipython3",
   "version": "3.9.12"
  }
 },
 "nbformat": 4,
 "nbformat_minor": 5
}
